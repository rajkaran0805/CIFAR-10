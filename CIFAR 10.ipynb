{
 "cells": [
  {
   "cell_type": "code",
   "execution_count": 1,
   "metadata": {},
   "outputs": [
    {
     "name": "stderr",
     "output_type": "stream",
     "text": [
      "E:\\anaconda\\lib\\site-packages\\h5py\\__init__.py:34: FutureWarning: Conversion of the second argument of issubdtype from `float` to `np.floating` is deprecated. In future, it will be treated as `np.float64 == np.dtype(float).type`.\n",
      "  from ._conv import register_converters as _register_converters\n",
      "Using TensorFlow backend.\n"
     ]
    }
   ],
   "source": [
    "from __future__ import print_function\n",
    "import keras\n",
    "from keras.datasets import cifar10\n",
    "from keras.models import Sequential\n",
    "from keras.layers import Dense, Dropout, Activation, Flatten\n",
    "from keras.layers import Conv2D, MaxPooling2D\n",
    "from keras.optimizers import SGD\n",
    "from keras.utils import print_summary, to_categorical\n",
    "import sys\n",
    "import os"
   ]
  },
  {
   "cell_type": "code",
   "execution_count": 3,
   "metadata": {},
   "outputs": [],
   "source": [
    "batch_size = 64\n",
    "num_classes = 10\n",
    "epochs = 100\n",
    "model_name = 'keras_cifar10_model'\n",
    "save_dir = '/model/' + model_name"
   ]
  },
  {
   "cell_type": "code",
   "execution_count": 4,
   "metadata": {},
   "outputs": [
    {
     "name": "stdout",
     "output_type": "stream",
     "text": [
      "Downloading data from https://www.cs.toronto.edu/~kriz/cifar-10-python.tar.gz\n",
      "170500096/170498071 [==============================] - 44s 0us/step\n"
     ]
    }
   ],
   "source": [
    "(x_train, y_train), (x_test, y_test) = cifar10.load_data()\n"
   ]
  },
  {
   "cell_type": "code",
   "execution_count": 5,
   "metadata": {
    "collapsed": true
   },
   "outputs": [],
   "source": [
    "y_train = to_categorical(y_train, num_classes)\n",
    "y_test = to_categorical(y_test, num_classes)"
   ]
  },
  {
   "cell_type": "code",
   "execution_count": 6,
   "metadata": {
    "collapsed": true
   },
   "outputs": [],
   "source": [
    "x_train = x_train.astype('float32')\n",
    "x_test = x_test.astype('float32')\n",
    "x_train /= 255.0\n",
    "x_test /= 255.0"
   ]
  },
  {
   "cell_type": "code",
   "execution_count": 7,
   "metadata": {
    "collapsed": true
   },
   "outputs": [],
   "source": [
    "model = Sequential()\n",
    "model.add(Conv2D(32, (3, 3), padding='same', input_shape=x_train.shape[1:]))\n",
    "model.add(Activation('relu'))\n",
    "model.add(MaxPooling2D(pool_size=(2, 2)))\n",
    "model.add(Dropout(0.3))\n",
    "model.add(Conv2D(64, (3, 3), padding='same', input_shape=x_train.shape[1:]))\n",
    "model.add(Activation('relu'))\n",
    "model.add(MaxPooling2D(pool_size=(2, 2)))\n",
    "model.add(Dropout(0.3))\n",
    "\n",
    "model.add(Conv2D(128, (3, 3), padding='same', input_shape=x_train.shape[1:]))\n",
    "model.add(Activation('relu'))\n",
    "model.add(MaxPooling2D(pool_size=(2, 2)))\n",
    "model.add(Dropout(0.4))\n",
    "\n",
    "model.add(Flatten())\n",
    "model.add(Dense(80))\n",
    "model.add(Activation('relu'))\n",
    "model.add(Dropout(0.3))\n",
    "model.add(Dense(num_classes))\n",
    "model.add(Activation('softmax'))"
   ]
  },
  {
   "cell_type": "code",
   "execution_count": 8,
   "metadata": {
    "collapsed": true
   },
   "outputs": [],
   "source": [
    "opt = SGD(lr=0.01, momentum=0.9, decay=0, nesterov=False)"
   ]
  },
  {
   "cell_type": "code",
   "execution_count": 9,
   "metadata": {
    "collapsed": true
   },
   "outputs": [],
   "source": [
    "model.compile(loss='categorical_crossentropy',\n",
    "              optimizer=opt,\n",
    "              metrics=['accuracy'])"
   ]
  },
  {
   "cell_type": "code",
   "execution_count": 10,
   "metadata": {},
   "outputs": [
    {
     "name": "stdout",
     "output_type": "stream",
     "text": [
      "Train on 40000 samples, validate on 10000 samples\n",
      "Epoch 1/100\n",
      "40000/40000 [==============================] - 226s 6ms/step - loss: 2.0115 - acc: 0.2563 - val_loss: 1.7381 - val_acc: 0.3886\n",
      "Epoch 2/100\n",
      "40000/40000 [==============================] - 220s 5ms/step - loss: 1.6611 - acc: 0.3892 - val_loss: 1.5728 - val_acc: 0.3958\n",
      "Epoch 3/100\n",
      "40000/40000 [==============================] - 208s 5ms/step - loss: 1.5152 - acc: 0.4469 - val_loss: 1.3538 - val_acc: 0.5142\n",
      "Epoch 4/100\n",
      "40000/40000 [==============================] - 197s 5ms/step - loss: 1.4157 - acc: 0.4839 - val_loss: 1.2718 - val_acc: 0.5529\n",
      "Epoch 5/100\n",
      "40000/40000 [==============================] - 221s 6ms/step - loss: 1.3279 - acc: 0.5218 - val_loss: 1.1568 - val_acc: 0.5939\n",
      "Epoch 6/100\n",
      "40000/40000 [==============================] - 229s 6ms/step - loss: 1.2634 - acc: 0.5462 - val_loss: 1.1621 - val_acc: 0.5948\n",
      "Epoch 7/100\n",
      "40000/40000 [==============================] - 239s 6ms/step - loss: 1.2099 - acc: 0.5661 - val_loss: 1.1345 - val_acc: 0.5923\n",
      "Epoch 8/100\n",
      "40000/40000 [==============================] - 238s 6ms/step - loss: 1.1560 - acc: 0.5864 - val_loss: 1.0118 - val_acc: 0.6527\n",
      "Epoch 9/100\n",
      "40000/40000 [==============================] - 225s 6ms/step - loss: 1.1142 - acc: 0.6044 - val_loss: 0.9797 - val_acc: 0.6520\n",
      "Epoch 10/100\n",
      "40000/40000 [==============================] - 225s 6ms/step - loss: 1.0820 - acc: 0.6155 - val_loss: 0.9617 - val_acc: 0.6643\n",
      "Epoch 11/100\n",
      "40000/40000 [==============================] - 227s 6ms/step - loss: 1.0511 - acc: 0.6260 - val_loss: 0.9808 - val_acc: 0.6549\n",
      "Epoch 12/100\n",
      "40000/40000 [==============================] - 222s 6ms/step - loss: 1.0275 - acc: 0.6368 - val_loss: 1.0180 - val_acc: 0.6496\n",
      "Epoch 13/100\n",
      "40000/40000 [==============================] - 225s 6ms/step - loss: 1.0035 - acc: 0.6443 - val_loss: 0.8680 - val_acc: 0.6994\n",
      "Epoch 14/100\n",
      "40000/40000 [==============================] - 224s 6ms/step - loss: 0.9788 - acc: 0.6512 - val_loss: 0.8860 - val_acc: 0.6953\n",
      "Epoch 15/100\n",
      "40000/40000 [==============================] - 234s 6ms/step - loss: 0.9565 - acc: 0.6611 - val_loss: 0.9618 - val_acc: 0.6715\n",
      "Epoch 16/100\n",
      "40000/40000 [==============================] - 222s 6ms/step - loss: 0.9547 - acc: 0.6622 - val_loss: 0.8561 - val_acc: 0.6969\n",
      "Epoch 17/100\n",
      "40000/40000 [==============================] - 222s 6ms/step - loss: 0.9270 - acc: 0.6730 - val_loss: 0.8667 - val_acc: 0.6907\n",
      "Epoch 18/100\n",
      "40000/40000 [==============================] - 222s 6ms/step - loss: 0.9172 - acc: 0.6755 - val_loss: 0.8069 - val_acc: 0.7186\n",
      "Epoch 19/100\n",
      "40000/40000 [==============================] - 540s 14ms/step - loss: 0.8976 - acc: 0.6785 - val_loss: 0.8503 - val_acc: 0.7015\n",
      "Epoch 20/100\n",
      "40000/40000 [==============================] - 197s 5ms/step - loss: 0.8951 - acc: 0.6838 - val_loss: 0.8122 - val_acc: 0.7136\n",
      "Epoch 21/100\n",
      "40000/40000 [==============================] - 226s 6ms/step - loss: 0.8749 - acc: 0.6906 - val_loss: 0.8864 - val_acc: 0.7010\n",
      "Epoch 22/100\n",
      "40000/40000 [==============================] - 229s 6ms/step - loss: 0.8691 - acc: 0.6912 - val_loss: 0.7881 - val_acc: 0.7226\n",
      "Epoch 23/100\n",
      "40000/40000 [==============================] - 226s 6ms/step - loss: 0.8604 - acc: 0.6979 - val_loss: 0.7661 - val_acc: 0.7367\n",
      "Epoch 24/100\n",
      "40000/40000 [==============================] - 212s 5ms/step - loss: 0.8507 - acc: 0.6987 - val_loss: 0.7785 - val_acc: 0.7316\n",
      "Epoch 25/100\n",
      "40000/40000 [==============================] - 213s 5ms/step - loss: 0.8421 - acc: 0.7025 - val_loss: 0.8190 - val_acc: 0.7154\n",
      "Epoch 26/100\n",
      "40000/40000 [==============================] - 225s 6ms/step - loss: 0.8329 - acc: 0.7041 - val_loss: 0.7491 - val_acc: 0.7389\n",
      "Epoch 27/100\n",
      "40000/40000 [==============================] - 216s 5ms/step - loss: 0.8327 - acc: 0.7048 - val_loss: 0.7346 - val_acc: 0.7463\n",
      "Epoch 28/100\n",
      "40000/40000 [==============================] - 228s 6ms/step - loss: 0.8105 - acc: 0.7157 - val_loss: 0.7476 - val_acc: 0.7427\n",
      "Epoch 29/100\n",
      "40000/40000 [==============================] - 239s 6ms/step - loss: 0.8097 - acc: 0.7149 - val_loss: 0.7225 - val_acc: 0.7480\n",
      "Epoch 30/100\n",
      "40000/40000 [==============================] - 232s 6ms/step - loss: 0.7997 - acc: 0.7177 - val_loss: 0.7179 - val_acc: 0.7497\n",
      "Epoch 31/100\n",
      "40000/40000 [==============================] - 229s 6ms/step - loss: 0.7990 - acc: 0.7188 - val_loss: 0.7402 - val_acc: 0.7480\n",
      "Epoch 32/100\n",
      "40000/40000 [==============================] - 329s 8ms/step - loss: 0.7943 - acc: 0.7198 - val_loss: 0.7028 - val_acc: 0.7625\n",
      "Epoch 33/100\n",
      "40000/40000 [==============================] - 146s 4ms/step - loss: 0.7947 - acc: 0.7179 - val_loss: 0.7925 - val_acc: 0.7335\n",
      "Epoch 34/100\n",
      "40000/40000 [==============================] - 152s 4ms/step - loss: 0.7866 - acc: 0.7238 - val_loss: 0.7193 - val_acc: 0.7534\n",
      "Epoch 35/100\n",
      "40000/40000 [==============================] - 153s 4ms/step - loss: 0.7794 - acc: 0.7237 - val_loss: 0.6946 - val_acc: 0.7636\n",
      "Epoch 36/100\n",
      "40000/40000 [==============================] - 155s 4ms/step - loss: 0.7809 - acc: 0.7234 - val_loss: 0.7224 - val_acc: 0.7583\n",
      "Epoch 37/100\n",
      "40000/40000 [==============================] - 153s 4ms/step - loss: 0.7672 - acc: 0.7284 - val_loss: 0.6887 - val_acc: 0.7660\n",
      "Epoch 38/100\n",
      "40000/40000 [==============================] - 153s 4ms/step - loss: 0.7719 - acc: 0.7260 - val_loss: 0.7061 - val_acc: 0.7571\n",
      "Epoch 39/100\n",
      "40000/40000 [==============================] - 154s 4ms/step - loss: 0.7614 - acc: 0.7311 - val_loss: 0.6702 - val_acc: 0.7683\n",
      "Epoch 40/100\n",
      "40000/40000 [==============================] - 155s 4ms/step - loss: 0.7618 - acc: 0.7321 - val_loss: 0.7062 - val_acc: 0.7582\n",
      "Epoch 41/100\n",
      "40000/40000 [==============================] - 157s 4ms/step - loss: 0.7540 - acc: 0.7345 - val_loss: 0.6735 - val_acc: 0.7720\n",
      "Epoch 42/100\n",
      "40000/40000 [==============================] - 154s 4ms/step - loss: 0.7486 - acc: 0.7339 - val_loss: 0.7056 - val_acc: 0.7556\n",
      "Epoch 43/100\n",
      "40000/40000 [==============================] - 155s 4ms/step - loss: 0.7446 - acc: 0.7389 - val_loss: 0.6889 - val_acc: 0.7655\n",
      "Epoch 44/100\n",
      "40000/40000 [==============================] - 160s 4ms/step - loss: 0.7485 - acc: 0.7356 - val_loss: 0.6837 - val_acc: 0.7660\n",
      "Epoch 45/100\n",
      "40000/40000 [==============================] - 163s 4ms/step - loss: 0.7365 - acc: 0.7382 - val_loss: 0.6968 - val_acc: 0.7588\n",
      "Epoch 46/100\n",
      "40000/40000 [==============================] - 157s 4ms/step - loss: 0.7319 - acc: 0.7439 - val_loss: 0.7080 - val_acc: 0.7561\n",
      "Epoch 47/100\n",
      "40000/40000 [==============================] - 152s 4ms/step - loss: 0.7398 - acc: 0.7393 - val_loss: 0.7930 - val_acc: 0.7293\n",
      "Epoch 48/100\n",
      "40000/40000 [==============================] - 152s 4ms/step - loss: 0.7260 - acc: 0.7436 - val_loss: 0.6989 - val_acc: 0.7645\n",
      "Epoch 49/100\n",
      "40000/40000 [==============================] - 152s 4ms/step - loss: 0.7270 - acc: 0.7436 - val_loss: 0.6583 - val_acc: 0.7750\n",
      "Epoch 50/100\n",
      "40000/40000 [==============================] - 148s 4ms/step - loss: 0.7252 - acc: 0.7426 - val_loss: 0.7071 - val_acc: 0.7580\n",
      "Epoch 51/100\n",
      "40000/40000 [==============================] - 148s 4ms/step - loss: 0.7289 - acc: 0.7436 - val_loss: 0.6671 - val_acc: 0.7679\n",
      "Epoch 52/100\n",
      "40000/40000 [==============================] - 148s 4ms/step - loss: 0.7209 - acc: 0.7440 - val_loss: 0.6739 - val_acc: 0.7706\n",
      "Epoch 53/100\n",
      "40000/40000 [==============================] - 148s 4ms/step - loss: 0.7186 - acc: 0.7467 - val_loss: 0.8712 - val_acc: 0.7141\n",
      "Epoch 54/100\n",
      "40000/40000 [==============================] - 148s 4ms/step - loss: 0.7149 - acc: 0.7474 - val_loss: 0.6601 - val_acc: 0.7700\n",
      "Epoch 55/100\n",
      "40000/40000 [==============================] - 148s 4ms/step - loss: 0.7067 - acc: 0.7488 - val_loss: 0.6938 - val_acc: 0.7616\n",
      "Epoch 56/100\n",
      "40000/40000 [==============================] - 149s 4ms/step - loss: 0.7124 - acc: 0.7507 - val_loss: 0.6572 - val_acc: 0.7746\n",
      "Epoch 57/100\n",
      "40000/40000 [==============================] - 159s 4ms/step - loss: 0.7176 - acc: 0.7456 - val_loss: 0.6701 - val_acc: 0.7692\n",
      "Epoch 58/100\n",
      "40000/40000 [==============================] - 157s 4ms/step - loss: 0.7124 - acc: 0.7495 - val_loss: 0.6541 - val_acc: 0.7785\n",
      "Epoch 59/100\n"
     ]
    },
    {
     "name": "stdout",
     "output_type": "stream",
     "text": [
      "40000/40000 [==============================] - 131s 3ms/step - loss: 0.7066 - acc: 0.7507 - val_loss: 0.6852 - val_acc: 0.7660\n",
      "Epoch 60/100\n",
      "40000/40000 [==============================] - 131s 3ms/step - loss: 0.7038 - acc: 0.7537 - val_loss: 0.6734 - val_acc: 0.7639\n",
      "Epoch 61/100\n",
      "40000/40000 [==============================] - 131s 3ms/step - loss: 0.7013 - acc: 0.7533 - val_loss: 0.6487 - val_acc: 0.7773\n",
      "Epoch 62/100\n",
      "40000/40000 [==============================] - 130s 3ms/step - loss: 0.7047 - acc: 0.7522 - val_loss: 0.6561 - val_acc: 0.7747\n",
      "Epoch 63/100\n",
      "40000/40000 [==============================] - 130s 3ms/step - loss: 0.6924 - acc: 0.7546 - val_loss: 0.6982 - val_acc: 0.7619\n",
      "Epoch 64/100\n",
      "40000/40000 [==============================] - 131s 3ms/step - loss: 0.6967 - acc: 0.7552 - val_loss: 0.6790 - val_acc: 0.7647\n",
      "Epoch 65/100\n",
      "40000/40000 [==============================] - 132s 3ms/step - loss: 0.7005 - acc: 0.7527 - val_loss: 0.6760 - val_acc: 0.7685\n",
      "Epoch 66/100\n",
      "40000/40000 [==============================] - 130s 3ms/step - loss: 0.6920 - acc: 0.7540 - val_loss: 0.6858 - val_acc: 0.7646\n",
      "Epoch 67/100\n",
      "40000/40000 [==============================] - 130s 3ms/step - loss: 0.6920 - acc: 0.7549 - val_loss: 0.6516 - val_acc: 0.7747\n",
      "Epoch 68/100\n",
      "40000/40000 [==============================] - 130s 3ms/step - loss: 0.6895 - acc: 0.7579 - val_loss: 0.6571 - val_acc: 0.7722\n",
      "Epoch 69/100\n",
      "40000/40000 [==============================] - 130s 3ms/step - loss: 0.6908 - acc: 0.7551 - val_loss: 0.7335 - val_acc: 0.7525\n",
      "Epoch 70/100\n",
      "40000/40000 [==============================] - 132s 3ms/step - loss: 0.6905 - acc: 0.7559 - val_loss: 0.6639 - val_acc: 0.7749\n",
      "Epoch 71/100\n",
      "40000/40000 [==============================] - 136s 3ms/step - loss: 0.6784 - acc: 0.7577 - val_loss: 0.6878 - val_acc: 0.7664\n",
      "Epoch 72/100\n",
      "40000/40000 [==============================] - 5667s 142ms/step - loss: 0.6859 - acc: 0.7571 - val_loss: 0.6738 - val_acc: 0.7661\n",
      "Epoch 73/100\n",
      "40000/40000 [==============================] - 134s 3ms/step - loss: 0.6838 - acc: 0.7574 - val_loss: 0.6374 - val_acc: 0.7830\n",
      "Epoch 74/100\n",
      "40000/40000 [==============================] - 133s 3ms/step - loss: 0.6808 - acc: 0.7601 - val_loss: 0.6471 - val_acc: 0.7781\n",
      "Epoch 75/100\n",
      "40000/40000 [==============================] - 133s 3ms/step - loss: 0.6747 - acc: 0.7605 - val_loss: 0.7217 - val_acc: 0.7577\n",
      "Epoch 76/100\n",
      "40000/40000 [==============================] - 134s 3ms/step - loss: 0.6830 - acc: 0.7607 - val_loss: 0.6323 - val_acc: 0.7851\n",
      "Epoch 77/100\n",
      "40000/40000 [==============================] - 130s 3ms/step - loss: 0.6756 - acc: 0.7609 - val_loss: 0.6383 - val_acc: 0.7821\n",
      "Epoch 78/100\n",
      "40000/40000 [==============================] - 131s 3ms/step - loss: 0.6702 - acc: 0.7617 - val_loss: 0.6653 - val_acc: 0.7743\n",
      "Epoch 79/100\n",
      "40000/40000 [==============================] - 130s 3ms/step - loss: 0.6747 - acc: 0.7604 - val_loss: 0.6918 - val_acc: 0.7693\n",
      "Epoch 80/100\n",
      "40000/40000 [==============================] - 130s 3ms/step - loss: 0.6711 - acc: 0.7650 - val_loss: 0.6200 - val_acc: 0.7889\n",
      "Epoch 81/100\n",
      "40000/40000 [==============================] - 130s 3ms/step - loss: 0.6615 - acc: 0.7663 - val_loss: 0.6467 - val_acc: 0.7811\n",
      "Epoch 82/100\n",
      "40000/40000 [==============================] - 130s 3ms/step - loss: 0.6850 - acc: 0.7594 - val_loss: 0.6501 - val_acc: 0.7780\n",
      "Epoch 83/100\n",
      "40000/40000 [==============================] - 130s 3ms/step - loss: 0.6685 - acc: 0.7652 - val_loss: 0.6337 - val_acc: 0.7831\n",
      "Epoch 84/100\n",
      "40000/40000 [==============================] - 130s 3ms/step - loss: 0.6729 - acc: 0.7644 - val_loss: 0.6478 - val_acc: 0.7771\n",
      "Epoch 85/100\n",
      "40000/40000 [==============================] - 130s 3ms/step - loss: 0.6647 - acc: 0.7659 - val_loss: 0.6790 - val_acc: 0.7705\n",
      "Epoch 86/100\n",
      "40000/40000 [==============================] - 3445s 86ms/step - loss: 0.6609 - acc: 0.7676 - val_loss: 0.6494 - val_acc: 0.7797\n",
      "Epoch 87/100\n",
      "40000/40000 [==============================] - 134s 3ms/step - loss: 0.6669 - acc: 0.7620 - val_loss: 0.6568 - val_acc: 0.7796\n",
      "Epoch 88/100\n",
      "40000/40000 [==============================] - 134s 3ms/step - loss: 0.6685 - acc: 0.7663 - val_loss: 0.6648 - val_acc: 0.7752\n",
      "Epoch 89/100\n",
      "40000/40000 [==============================] - 158s 4ms/step - loss: 0.6613 - acc: 0.7663 - val_loss: 0.6766 - val_acc: 0.7769\n",
      "Epoch 90/100\n",
      "40000/40000 [==============================] - 173s 4ms/step - loss: 0.6606 - acc: 0.7679 - val_loss: 0.6446 - val_acc: 0.7831\n",
      "Epoch 91/100\n",
      "40000/40000 [==============================] - 130s 3ms/step - loss: 0.6581 - acc: 0.7670 - val_loss: 0.6644 - val_acc: 0.7685\n",
      "Epoch 92/100\n",
      "40000/40000 [==============================] - 130s 3ms/step - loss: 0.6620 - acc: 0.7662 - val_loss: 0.6456 - val_acc: 0.7794\n",
      "Epoch 93/100\n",
      "40000/40000 [==============================] - 131s 3ms/step - loss: 0.6564 - acc: 0.7674 - val_loss: 0.6247 - val_acc: 0.7889\n",
      "Epoch 94/100\n",
      "40000/40000 [==============================] - 131s 3ms/step - loss: 0.6521 - acc: 0.7702 - val_loss: 0.6542 - val_acc: 0.7786\n",
      "Epoch 95/100\n",
      "40000/40000 [==============================] - 130s 3ms/step - loss: 0.6615 - acc: 0.7658 - val_loss: 0.6318 - val_acc: 0.7853\n",
      "Epoch 96/100\n",
      "40000/40000 [==============================] - 130s 3ms/step - loss: 0.6519 - acc: 0.7695 - val_loss: 0.6601 - val_acc: 0.7757\n",
      "Epoch 97/100\n",
      "40000/40000 [==============================] - 130s 3ms/step - loss: 0.6631 - acc: 0.7656 - val_loss: 0.6389 - val_acc: 0.7861\n",
      "Epoch 98/100\n",
      "40000/40000 [==============================] - 130s 3ms/step - loss: 0.6577 - acc: 0.7692 - val_loss: 0.6642 - val_acc: 0.7782\n",
      "Epoch 99/100\n",
      "40000/40000 [==============================] - 131s 3ms/step - loss: 0.6564 - acc: 0.7682 - val_loss: 0.6977 - val_acc: 0.7655\n",
      "Epoch 100/100\n",
      "40000/40000 [==============================] - 139s 3ms/step - loss: 0.6510 - acc: 0.7707 - val_loss: 0.6574 - val_acc: 0.7758\n"
     ]
    },
    {
     "data": {
      "text/plain": [
       "<keras.callbacks.History at 0x1f270a14cc0>"
      ]
     },
     "execution_count": 10,
     "metadata": {},
     "output_type": "execute_result"
    }
   ],
   "source": [
    "model.fit(x_train, y_train,\n",
    "          batch_size=batch_size,\n",
    "          epochs=epochs,\n",
    "          validation_split=0.2,\n",
    "          shuffle=True)"
   ]
  },
  {
   "cell_type": "code",
   "execution_count": 11,
   "metadata": {},
   "outputs": [
    {
     "name": "stdout",
     "output_type": "stream",
     "text": [
      "10000/10000 [==============================] - 18s 2ms/step\n",
      "Test loss: 0.6882956057071686\n",
      "Test accuracy: 0.7684\n"
     ]
    }
   ],
   "source": [
    "scores = model.evaluate(x_test, y_test, verbose=1)\n",
    "print('Test loss:', scores[0])\n",
    "print('Test accuracy:', scores[1])"
   ]
  },
  {
   "cell_type": "code",
   "execution_count": null,
   "metadata": {
    "collapsed": true
   },
   "outputs": [],
   "source": []
  }
 ],
 "metadata": {
  "kernelspec": {
   "display_name": "Python 3",
   "language": "python",
   "name": "python3"
  },
  "language_info": {
   "codemirror_mode": {
    "name": "ipython",
    "version": 3
   },
   "file_extension": ".py",
   "mimetype": "text/x-python",
   "name": "python",
   "nbconvert_exporter": "python",
   "pygments_lexer": "ipython3",
   "version": "3.6.2"
  }
 },
 "nbformat": 4,
 "nbformat_minor": 2
}
